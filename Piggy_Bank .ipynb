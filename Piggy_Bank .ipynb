{
 "cells": [
  {
   "cell_type": "code",
   "execution_count": 1,
   "metadata": {},
   "outputs": [
    {
     "name": "stdout",
     "output_type": "stream",
     "text": [
      "Start\n",
      "Welcome to Piggy_Bank,please enter your choice(ADD/WITHDRAW/BALCHECK/EXIT):add\n",
      "Enter the amount you seek to add:1000\n",
      "\n",
      " After adding, your updated balance is : 1000 rupees\n",
      "Welcome to Piggy_Bank,please enter your choice(ADD/WITHDRAW/BALCHECK/EXIT):withdraw\n",
      "Enter amount to withdraw :300\n",
      "\n",
      " You have withdrawn : 300 rupees\n",
      "Welcome to Piggy_Bank,please enter your choice(ADD/WITHDRAW/BALCHECK/EXIT):balcheck\n",
      "\n",
      " Your current balance is:  700 rupees\n",
      "Welcome to Piggy_Bank,please enter your choice(ADD/WITHDRAW/BALCHECK/EXIT):money\n",
      "Wrong choice , try again..\n",
      "Welcome to Piggy_Bank,please enter your choice(ADD/WITHDRAW/BALCHECK/EXIT):exit\n",
      "END OF SESSION\n"
     ]
    }
   ],
   "source": [
    "# 1.  lets define a class and then instantiate using init method  \n",
    "# 2.   We shall define method within class performing \n",
    "#     add, withdraw & check \n",
    "# 3. Create a class object to & use it to call methods defined within class \n",
    "\n",
    "class Piggy_Bank:\n",
    "    def __init__(self):\n",
    "#( instance variable with intial amount zero('0'))\n",
    "        \n",
    "        self.balance=0 \n",
    "        print('Start')\n",
    "        \n",
    "        \n",
    "# Define a method add_amount\n",
    "    def add_amount(self):\n",
    "        amount=float(input(\"Enter the amount you seek to add:\"))\n",
    "        self.balance += amount\n",
    "        print(\"\\n After adding, your updated balance is : %d rupees\" %(amount))\n",
    "    \n",
    "#Define a method withdraw\n",
    "\n",
    "    def withdraw(self):\n",
    "        amount=float(input(\"Enter amount to withdraw :\" ))\n",
    "\n",
    "#check for balance available to withdraw using a for loop\n",
    "\n",
    "\n",
    "        if self.balance>=amount:\n",
    "            self.balance -= amount\n",
    "            print(\"\\n You have withdrawn : %d rupees\"%(amount))\n",
    "        else:\n",
    "            print(\"\\n You have insufficient balance in your account\")\n",
    "        \n",
    "#Define a method to check balance\n",
    "\n",
    "    def check_balance(self):\n",
    "        print(\"\\n Your current balance is:  %d rupees\" %(self.balance))\n",
    "    \n",
    "\n",
    "#lets create an object for above class \n",
    "\n",
    "o=Piggy_Bank()\n",
    "\n",
    "while True:\n",
    "#We take the input from user as mentioned \n",
    "    op=input(\"Welcome to Piggy_Bank,please enter your choice(ADD/WITHDRAW/BALCHECK/EXIT):\")\n",
    "#convert the input to lower case to avoid case related error while choice getting assigned to op\n",
    "    op=op.lower()\n",
    "#run the if else loop to and call the class method with different user choice     \n",
    "    if op == 'add':\n",
    "        o.add_amount()\n",
    "    elif op == 'withdraw':\n",
    "        o.withdraw()\n",
    "    elif op == 'balcheck':\n",
    "        o.check_balance()\n",
    "    elif op == 'exit':\n",
    "        print('END OF SESSION')\n",
    "        break\n",
    "    else:\n",
    "        print(\"Wrong choice , try again..\")\n",
    "        \n",
    "        \n",
    "#Application is running smoothly        \n",
    "        \n"
   ]
  },
  {
   "cell_type": "code",
   "execution_count": null,
   "metadata": {},
   "outputs": [],
   "source": []
  }
 ],
 "metadata": {
  "kernelspec": {
   "display_name": "Python 3",
   "language": "python",
   "name": "python3"
  },
  "language_info": {
   "codemirror_mode": {
    "name": "ipython",
    "version": 3
   },
   "file_extension": ".py",
   "mimetype": "text/x-python",
   "name": "python",
   "nbconvert_exporter": "python",
   "pygments_lexer": "ipython3",
   "version": "3.7.3"
  }
 },
 "nbformat": 4,
 "nbformat_minor": 2
}
