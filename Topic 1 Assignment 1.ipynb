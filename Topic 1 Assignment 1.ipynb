{
 "cells": [
  {
   "cell_type": "code",
   "execution_count": null,
   "metadata": {},
   "outputs": [],
   "source": [
    "#Program to calculate the maximum handling capacity in a company's conference room eg: EY\n"
   ]
  },
  {
   "cell_type": "code",
   "execution_count": 2,
   "metadata": {},
   "outputs": [
    {
     "name": "stdout",
     "output_type": "stream",
     "text": [
      "enter number of employees: 29\n",
      "Booking is available\n"
     ]
    }
   ],
   "source": [
    " # max cap=50 number of chairs available\n",
    "i=int(input('enter number of employees: '))#we take 31 in first instance & 60 in second instance\n",
    "if  i<=50:                        # if statement followed by condition to not exceed 50\n",
    "    print('Booking is available')\n",
    "else:                            #else asks to re-evaluate   \n",
    "    print('number exceeds')\n",
    "    "
   ]
  }
 ],
 "metadata": {
  "kernelspec": {
   "display_name": "Python 3",
   "language": "python",
   "name": "python3"
  },
  "language_info": {
   "codemirror_mode": {
    "name": "ipython",
    "version": 3
   },
   "file_extension": ".py",
   "mimetype": "text/x-python",
   "name": "python",
   "nbconvert_exporter": "python",
   "pygments_lexer": "ipython3",
   "version": "3.7.3"
  }
 },
 "nbformat": 4,
 "nbformat_minor": 2
}
